{
 "cells": [
  {
   "cell_type": "markdown",
   "id": "7652b5c5",
   "metadata": {},
   "source": [
    "## Импорты"
   ]
  },
  {
   "cell_type": "code",
   "execution_count": 1,
   "id": "5f83b427",
   "metadata": {},
   "outputs": [],
   "source": [
    "import numpy as np\n",
    "import random\n",
    "import matplotlib.pyplot as plt\n",
    "import seaborn as sns\n",
    "%matplotlib inline"
   ]
  },
  {
   "cell_type": "markdown",
   "id": "0ff69afd",
   "metadata": {},
   "source": [
    "## Задача 4\n",
    "\n",
    "![image info](./img/Задание_4.png)"
   ]
  },
  {
   "cell_type": "code",
   "execution_count": 2,
   "id": "23858afb",
   "metadata": {},
   "outputs": [],
   "source": [
    "f = np.random.standard_normal(1000)\n",
    "r = np.random.standard_normal(1000)\n",
    "pnl = f * r"
   ]
  },
  {
   "cell_type": "code",
   "execution_count": 3,
   "id": "3cef32ad",
   "metadata": {},
   "outputs": [
    {
     "data": {
      "text/plain": [
       "0.016019539752535852"
      ]
     },
     "execution_count": 3,
     "metadata": {},
     "output_type": "execute_result"
    }
   ],
   "source": [
    "sr = pnl.mean()/pnl.std()\n",
    "sr"
   ]
  },
  {
   "cell_type": "code",
   "execution_count": 4,
   "id": "eda67019",
   "metadata": {},
   "outputs": [
    {
     "data": {
      "text/plain": [
       "0.529"
      ]
     },
     "execution_count": 4,
     "metadata": {},
     "output_type": "execute_result"
    }
   ],
   "source": [
    "hr = sum(np.sign(f)==np.sign(r))/r.shape[0]\n",
    "hr"
   ]
  },
  {
   "cell_type": "code",
   "execution_count": 11,
   "id": "881cf779",
   "metadata": {},
   "outputs": [
    {
     "data": {
      "image/png": "[encoded data removed]",
      "text/plain": [
       "<Figure size 432x288 with 1 Axes>"
      ]
     },
     "metadata": {
      "needs_background": "light"
     },
     "output_type": "display_data"
    }
   ],
   "source": [
    "sns.scatterplot(x=[sr], y=[hr])\n",
    "plt.xlabel('Sharpe Ratio', fontsize=15)\n",
    "plt.ylabel('Hit rate', fontsize=15)\n",
    "plt.xticks(rotation=45)\n",
    "plt.show()"
   ]
  },
  {
   "cell_type": "code",
   "execution_count": null,
   "id": "b6310c9a",
   "metadata": {},
   "outputs": [],
   "source": []
  }
 ],
 "metadata": {
  "kernelspec": {
   "display_name": "Python 3 (ipykernel)",
   "language": "python",
   "name": "python3"
  },
  "language_info": {
   "codemirror_mode": {
    "name": "ipython",
    "version": 3
   },
   "file_extension": ".py",
   "mimetype": "text/x-python",
   "name": "python",
   "nbconvert_exporter": "python",
   "pygments_lexer": "ipython3",
   "version": "3.9.12"
  }
 },
 "nbformat": 4,
 "nbformat_minor": 5
}
